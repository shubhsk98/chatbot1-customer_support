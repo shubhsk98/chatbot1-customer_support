{
 "cells": [
  {
   "cell_type": "markdown",
   "metadata": {},
   "source": [
    "#### Import Necessary Library"
   ]
  },
  {
   "cell_type": "code",
   "execution_count": 1,
   "metadata": {},
   "outputs": [],
   "source": [
    "import os\n",
    "from dotenv import load_dotenv\n",
    "\n",
    "from langchain_groq import ChatGroq   # Or ChatOpenAI if you prefer OpenAI\n",
    "from langchain.chains import create_history_aware_retriever\n",
    "from langchain.chains.combine_documents import create_stuff_documents_chain\n",
    "from langchain.chains import create_retrieval_chain\n",
    "from langchain_core.prompts import ChatPromptTemplate, MessagesPlaceholder\n",
    "from langchain_core.messages import AIMessage, HumanMessage\n",
    "from langchain_community.chat_message_histories import ChatMessageHistory\n",
    "from langchain_core.runnables.history import RunnableWithMessageHistory\n",
    "from langchain_core.documents import Document\n",
    "import streamlit as st\n",
    "from langchain_core.prompts import ChatPromptTemplate\n",
    "#from langchain_core.output_parsers import StrOutputParser\n",
    "#from langchain_community.llms import Ollama"
   ]
  },
  {
   "cell_type": "code",
   "execution_count": null,
   "metadata": {},
   "outputs": [],
   "source": [
    "## Langsmith Tracking\n",
    "#os.environ[\"LANGCHAIN_API_KEY\"]=os.getenv(\"LANGCHAIN_API_KEY\")\n",
    "#os.environ[\"LANGCHAIN_TRACING_V2\"]=\"true\"\n",
    "#os.environ[\"LANGCHAIN_PROJECT\"]=os.getenv(\"LANGCHAIN_PROJECT\")"
   ]
  },
  {
   "cell_type": "code",
   "execution_count": 2,
   "metadata": {},
   "outputs": [
    {
     "name": "stderr",
     "output_type": "stream",
     "text": [
      "g:\\Gen AI-Krish Naik\\5. Personal Gen AI Project\\venv\\Lib\\site-packages\\tqdm\\auto.py:21: TqdmWarning: IProgress not found. Please update jupyter and ipywidgets. See https://ipywidgets.readthedocs.io/en/stable/user_install.html\n",
      "  from .autonotebook import tqdm as notebook_tqdm\n"
     ]
    },
    {
     "data": {
      "text/plain": [
       "HuggingFaceEmbeddings(model_name='all-MiniLM-L6-v2', cache_folder=None, model_kwargs={}, encode_kwargs={}, query_encode_kwargs={}, multi_process=False, show_progress=False)"
      ]
     },
     "execution_count": 2,
     "metadata": {},
     "output_type": "execute_result"
    }
   ],
   "source": [
    "# set embedding tech\n",
    "from langchain_huggingface import HuggingFaceEmbeddings\n",
    "embeddings=HuggingFaceEmbeddings(model_name=\"all-MiniLM-L6-v2\")\n",
    "embeddings"
   ]
  },
  {
   "cell_type": "code",
   "execution_count": 3,
   "metadata": {},
   "outputs": [],
   "source": [
    "# load from disk -chromadb\n",
    "from langchain_chroma import Chroma\n",
    "new_db = Chroma(persist_directory=\"./chroma_db\", embedding_function=embeddings)"
   ]
  },
  {
   "cell_type": "code",
   "execution_count": 4,
   "metadata": {},
   "outputs": [],
   "source": [
    "from langchain_community.vectorstores import FAISS\n",
    "# load from disk\n",
    "new_db = FAISS.load_local(INDEX_PATH,embeddings,allow_dangerous_deserialization=True)"
   ]
  },
  {
   "cell_type": "code",
   "execution_count": 4,
   "metadata": {},
   "outputs": [
    {
     "data": {
      "text/plain": [
       "[Document(id='697d5e50-22cc-44d9-92ba-be58eae49886', metadata={}, page_content=\"Q: How do I reset my password?\\nA: Click on 'Forgot Password' on the login page and follow the steps.\\nQ: What should I do if my laptop doesn’t turn on?\\nA: Please check the power connection and try holding the power button for 10 seconds.\\nQ: My payment failed but money deducted.\\nA: Please provide your transaction ID. We will check and process a refund if applicable.\")]"
      ]
     },
     "execution_count": 4,
     "metadata": {},
     "output_type": "execute_result"
    }
   ],
   "source": [
    "query=\"Do you support Facebook Messenger?\"\n",
    "docs=new_db.similarity_search(query)\n",
    "docs"
   ]
  },
  {
   "cell_type": "code",
   "execution_count": 5,
   "metadata": {},
   "outputs": [
    {
     "data": {
      "text/plain": [
       "VectorStoreRetriever(tags=['Chroma', 'HuggingFaceEmbeddings'], vectorstore=<langchain_chroma.vectorstores.Chroma object at 0x0000021220A719D0>, search_kwargs={'k': 3})"
      ]
     },
     "execution_count": 5,
     "metadata": {},
     "output_type": "execute_result"
    }
   ],
   "source": [
    "# retriever object to query similar documents\n",
    "retriever = new_db.as_retriever(search_type=\"similarity\", search_kwargs={\"k\": 3})\n",
    "retriever"
   ]
  },
  {
   "cell_type": "code",
   "execution_count": null,
   "metadata": {},
   "outputs": [],
   "source": [
    "# %% 2. Define LLM"
   ]
  },
  {
   "cell_type": "code",
   "execution_count": 6,
   "metadata": {},
   "outputs": [],
   "source": [
    "import os\n",
    "from dotenv import load_dotenv\n",
    "import streamlit as st\n",
    "from langchain_core.prompts import ChatPromptTemplate\n",
    "from langchain_core.output_parsers import StrOutputParser"
   ]
  },
  {
   "cell_type": "code",
   "execution_count": 7,
   "metadata": {},
   "outputs": [
    {
     "data": {
      "text/plain": [
       "ChatGroq(client=<groq.resources.chat.completions.Completions object at 0x0000021224300BC0>, async_client=<groq.resources.chat.completions.AsyncCompletions object at 0x0000021224534560>, model_name='llama-3.1-8b-instant', model_kwargs={}, groq_api_key=SecretStr('**********'))"
      ]
     },
     "execution_count": 7,
     "metadata": {},
     "output_type": "execute_result"
    }
   ],
   "source": [
    "load_dotenv()\n",
    "## load the GROQ API Key\n",
    "os.environ['HF_TOKEN']=os.getenv(\"HF_TOKEN\")\n",
    "os.environ['GROQ_API_KEY']=os.getenv(\"GROQ_API_KEY\")\n",
    "\n",
    "groq_api_key=os.getenv(\"GROQ_API_KEY\")\n",
    "\n",
    "llm=ChatGroq(groq_api_key=groq_api_key,model_name=\"llama-3.1-8b-instant\")\n",
    "llm"
   ]
  },
  {
   "cell_type": "code",
   "execution_count": 8,
   "metadata": {},
   "outputs": [],
   "source": [
    "## Prompt Template\n",
    "qa_prompt = ChatPromptTemplate.from_messages([\n",
    "    (\"system\",\n",
    "     \"You are a polite and user-friendly support assistant.\\n\"\n",
    "     \"Use the following KB context to answer the user question clearly:\\n\\n\"\n",
    "     \"Context:\\n{context}\\n\\n\"\n",
    "     \"Guidelines:\\n\"\n",
    "     \"- Always explain in simple and helpful language.\\n\"\n",
    "     \"- If the KB does not have enough info, say: 'I’m not sure about that. Please contact support.'\"),\n",
    "    MessagesPlaceholder(\"chat_history\"),\n",
    "    (\"human\", \"{input}\")\n",
    "])"
   ]
  },
  {
   "cell_type": "code",
   "execution_count": 9,
   "metadata": {},
   "outputs": [
    {
     "data": {
      "text/plain": [
       "RunnableBinding(bound=RunnableBinding(bound=RunnableAssign(mapper={\n",
       "  context: RunnableLambda(format_docs)\n",
       "}), kwargs={}, config={'run_name': 'format_inputs'}, config_factories=[])\n",
       "| ChatPromptTemplate(input_variables=['chat_history', 'context', 'input'], input_types={'chat_history': list[typing.Annotated[typing.Union[typing.Annotated[langchain_core.messages.ai.AIMessage, Tag(tag='ai')], typing.Annotated[langchain_core.messages.human.HumanMessage, Tag(tag='human')], typing.Annotated[langchain_core.messages.chat.ChatMessage, Tag(tag='chat')], typing.Annotated[langchain_core.messages.system.SystemMessage, Tag(tag='system')], typing.Annotated[langchain_core.messages.function.FunctionMessage, Tag(tag='function')], typing.Annotated[langchain_core.messages.tool.ToolMessage, Tag(tag='tool')], typing.Annotated[langchain_core.messages.ai.AIMessageChunk, Tag(tag='AIMessageChunk')], typing.Annotated[langchain_core.messages.human.HumanMessageChunk, Tag(tag='HumanMessageChunk')], typing.Annotated[langchain_core.messages.chat.ChatMessageChunk, Tag(tag='ChatMessageChunk')], typing.Annotated[langchain_core.messages.system.SystemMessageChunk, Tag(tag='SystemMessageChunk')], typing.Annotated[langchain_core.messages.function.FunctionMessageChunk, Tag(tag='FunctionMessageChunk')], typing.Annotated[langchain_core.messages.tool.ToolMessageChunk, Tag(tag='ToolMessageChunk')]], FieldInfo(annotation=NoneType, required=True, discriminator=Discriminator(discriminator=<function _get_type at 0x0000021201FA9B20>, custom_error_type=None, custom_error_message=None, custom_error_context=None))]]}, partial_variables={}, messages=[SystemMessagePromptTemplate(prompt=PromptTemplate(input_variables=['context'], input_types={}, partial_variables={}, template=\"You are a polite and user-friendly support assistant.\\nUse the following KB context to answer the user question clearly:\\n\\nContext:\\n{context}\\n\\nGuidelines:\\n- Always explain in simple and helpful language.\\n- If the KB does not have enough info, say: 'I’m not sure about that. Please contact support.'\"), additional_kwargs={}), MessagesPlaceholder(variable_name='chat_history'), HumanMessagePromptTemplate(prompt=PromptTemplate(input_variables=['input'], input_types={}, partial_variables={}, template='{input}'), additional_kwargs={})])\n",
       "| ChatGroq(client=<groq.resources.chat.completions.Completions object at 0x0000021224300BC0>, async_client=<groq.resources.chat.completions.AsyncCompletions object at 0x0000021224534560>, model_name='llama-3.1-8b-instant', model_kwargs={}, groq_api_key=SecretStr('**********'))\n",
       "| StrOutputParser(), kwargs={}, config={'run_name': 'stuff_documents_chain'}, config_factories=[])"
      ]
     },
     "execution_count": 9,
     "metadata": {},
     "output_type": "execute_result"
    }
   ],
   "source": [
    "## Document chain for creation-custom prompt for answering questions with context.\n",
    "\n",
    "document_chains =  create_stuff_documents_chain(llm,qa_prompt)\n",
    "document_chains"
   ]
  },
  {
   "cell_type": "code",
   "execution_count": 12,
   "metadata": {},
   "outputs": [
    {
     "data": {
      "text/plain": [
       "'According to our knowledge base, we can indeed integrate with Salesforce. Our platform integrates seamlessly with Salesforce and other CRM tools, which should make it easy to connect your systems and streamline your workflow.'"
      ]
     },
     "execution_count": 12,
     "metadata": {},
     "output_type": "execute_result"
    }
   ],
   "source": [
    "from langchain_core.documents import Document\n",
    "document_chains.invoke({\n",
    "    \"input\":\"Can you integrate with Salesforce?\",\n",
    "    \"context\":[Document(page_content=\"ID  \\nScenario  Customer  Query  Agent  Response  Category  \\n1  Tier  1  Support  \\nCan  I  change  my  shipping  address?  \\nYes,  you  can  change  your  shipping  address  from  your  account  settings  before  the  order  is  shipped.  \\nTier  1  Support  &  Issue  Triage  \\n2  Lead  Qualification  \\nCan  you  integrate  with  Salesforce?  \\nYes,  our  platform  integrates  seamlessly  with  Salesforce  and  other  CRM  tools.  \\nLead  Qualification  &  Pre-sales  \\n3  Proactive  Support  \\nHow  do  I  download  my  invoice?  \\nYou  can  download  your  invoice  from  the  Billing  section  in  your  account.  \\nProactive  &  Outbound  Support  \\n4  Internal  Knowledge  \\nWhere  do  I  find  onboarding  guides?  \\nOnboarding  guides  are  available  on  the  HR  portal  â†’  New  Employee  section.  \\nInternal  Knowledge  Management  \\n5  Multi-channel  Support  \\nDo  you  support  Facebook  Messenger?  \\nYes,  our  agents  are  available  on  Facebook  Messenger  during  business  hours.' \")],\n",
    "    \"chat_history\": []\n",
    "})"
   ]
  },
  {
   "cell_type": "code",
   "execution_count": 13,
   "metadata": {},
   "outputs": [
    {
     "data": {
      "text/plain": [
       "<langchain_chroma.vectorstores.Chroma at 0x21220a719d0>"
      ]
     },
     "execution_count": 13,
     "metadata": {},
     "output_type": "execute_result"
    }
   ],
   "source": [
    "### Input--->Retriever--->vectorstoredb\n",
    "new_db"
   ]
  },
  {
   "cell_type": "code",
   "execution_count": 14,
   "metadata": {},
   "outputs": [],
   "source": [
    "# %% 3. Conversational Retriever Setup\n",
    "retriever = new_db.as_retriever()\n",
    "\n",
    "from langchain.chains import create_retrieval_chain\n",
    "\n",
    "Rag_chains = create_retrieval_chain(retriever,document_chains)\n"
   ]
  },
  {
   "cell_type": "code",
   "execution_count": 15,
   "metadata": {},
   "outputs": [
    {
     "data": {
      "text/plain": [
       "RunnableBinding(bound=RunnableAssign(mapper={\n",
       "  context: RunnableBinding(bound=RunnableLambda(lambda x: x['input'])\n",
       "           | VectorStoreRetriever(tags=['Chroma', 'HuggingFaceEmbeddings'], vectorstore=<langchain_chroma.vectorstores.Chroma object at 0x0000021220A719D0>, search_kwargs={}), kwargs={}, config={'run_name': 'retrieve_documents'}, config_factories=[])\n",
       "})\n",
       "| RunnableAssign(mapper={\n",
       "    answer: RunnableBinding(bound=RunnableBinding(bound=RunnableAssign(mapper={\n",
       "              context: RunnableLambda(format_docs)\n",
       "            }), kwargs={}, config={'run_name': 'format_inputs'}, config_factories=[])\n",
       "            | ChatPromptTemplate(input_variables=['chat_history', 'context', 'input'], input_types={'chat_history': list[typing.Annotated[typing.Union[typing.Annotated[langchain_core.messages.ai.AIMessage, Tag(tag='ai')], typing.Annotated[langchain_core.messages.human.HumanMessage, Tag(tag='human')], typing.Annotated[langchain_core.messages.chat.ChatMessage, Tag(tag='chat')], typing.Annotated[langchain_core.messages.system.SystemMessage, Tag(tag='system')], typing.Annotated[langchain_core.messages.function.FunctionMessage, Tag(tag='function')], typing.Annotated[langchain_core.messages.tool.ToolMessage, Tag(tag='tool')], typing.Annotated[langchain_core.messages.ai.AIMessageChunk, Tag(tag='AIMessageChunk')], typing.Annotated[langchain_core.messages.human.HumanMessageChunk, Tag(tag='HumanMessageChunk')], typing.Annotated[langchain_core.messages.chat.ChatMessageChunk, Tag(tag='ChatMessageChunk')], typing.Annotated[langchain_core.messages.system.SystemMessageChunk, Tag(tag='SystemMessageChunk')], typing.Annotated[langchain_core.messages.function.FunctionMessageChunk, Tag(tag='FunctionMessageChunk')], typing.Annotated[langchain_core.messages.tool.ToolMessageChunk, Tag(tag='ToolMessageChunk')]], FieldInfo(annotation=NoneType, required=True, discriminator=Discriminator(discriminator=<function _get_type at 0x0000021201FA9B20>, custom_error_type=None, custom_error_message=None, custom_error_context=None))]]}, partial_variables={}, messages=[SystemMessagePromptTemplate(prompt=PromptTemplate(input_variables=['context'], input_types={}, partial_variables={}, template=\"You are a polite and user-friendly support assistant.\\nUse the following KB context to answer the user question clearly:\\n\\nContext:\\n{context}\\n\\nGuidelines:\\n- Always explain in simple and helpful language.\\n- If the KB does not have enough info, say: 'I’m not sure about that. Please contact support.'\"), additional_kwargs={}), MessagesPlaceholder(variable_name='chat_history'), HumanMessagePromptTemplate(prompt=PromptTemplate(input_variables=['input'], input_types={}, partial_variables={}, template='{input}'), additional_kwargs={})])\n",
       "            | ChatGroq(client=<groq.resources.chat.completions.Completions object at 0x0000021224300BC0>, async_client=<groq.resources.chat.completions.AsyncCompletions object at 0x0000021224534560>, model_name='llama-3.1-8b-instant', model_kwargs={}, groq_api_key=SecretStr('**********'))\n",
       "            | StrOutputParser(), kwargs={}, config={'run_name': 'stuff_documents_chain'}, config_factories=[])\n",
       "  }), kwargs={}, config={'run_name': 'retrieval_chain'}, config_factories=[])"
      ]
     },
     "execution_count": 15,
     "metadata": {},
     "output_type": "execute_result"
    }
   ],
   "source": [
    "Rag_chains"
   ]
  },
  {
   "cell_type": "code",
   "execution_count": 17,
   "metadata": {},
   "outputs": [
    {
     "data": {
      "text/plain": [
       "\"I'm not sure about that. Please contact support.\""
      ]
     },
     "execution_count": 17,
     "metadata": {},
     "output_type": "execute_result"
    }
   ],
   "source": [
    "## Get the response form the LLM\n",
    "response = Rag_chains.invoke({ \"input\": \"Who manages payroll queries?\",\n",
    "    \"chat_history\": [], \n",
    "})\n",
    "response['answer']"
   ]
  },
  {
   "cell_type": "markdown",
   "metadata": {},
   "source": [
    "### User and AI Chat History\n"
   ]
  },
  {
   "cell_type": "code",
   "execution_count": 18,
   "metadata": {},
   "outputs": [],
   "source": [
    "from langchain.chains import create_history_aware_retriever\n",
    "from langchain_core.prompts import MessagesPlaceholder\n",
    "\n",
    "# Prompt template for conversation\n",
    "\n",
    "retriever_prompt = ChatPromptTemplate.from_messages([\n",
    "    (\"system\", \"You are a helpful assistant. \"\n",
    "    \"Rewrite the user question into a standalone query using chat history if needed.\"),\n",
    "    MessagesPlaceholder(\"chat_history\"),\n",
    "    (\"human\", \"{input}\")\n",
    "])"
   ]
  },
  {
   "cell_type": "code",
   "execution_count": 19,
   "metadata": {},
   "outputs": [
    {
     "data": {
      "text/plain": [
       "RunnableBinding(bound=RunnableBranch(branches=[(RunnableLambda(lambda x: not x.get('chat_history', False)), RunnableLambda(lambda x: x['input'])\n",
       "| VectorStoreRetriever(tags=['Chroma', 'HuggingFaceEmbeddings'], vectorstore=<langchain_chroma.vectorstores.Chroma object at 0x0000021220A719D0>, search_kwargs={}))], default=ChatPromptTemplate(input_variables=['chat_history', 'input'], input_types={'chat_history': list[typing.Annotated[typing.Union[typing.Annotated[langchain_core.messages.ai.AIMessage, Tag(tag='ai')], typing.Annotated[langchain_core.messages.human.HumanMessage, Tag(tag='human')], typing.Annotated[langchain_core.messages.chat.ChatMessage, Tag(tag='chat')], typing.Annotated[langchain_core.messages.system.SystemMessage, Tag(tag='system')], typing.Annotated[langchain_core.messages.function.FunctionMessage, Tag(tag='function')], typing.Annotated[langchain_core.messages.tool.ToolMessage, Tag(tag='tool')], typing.Annotated[langchain_core.messages.ai.AIMessageChunk, Tag(tag='AIMessageChunk')], typing.Annotated[langchain_core.messages.human.HumanMessageChunk, Tag(tag='HumanMessageChunk')], typing.Annotated[langchain_core.messages.chat.ChatMessageChunk, Tag(tag='ChatMessageChunk')], typing.Annotated[langchain_core.messages.system.SystemMessageChunk, Tag(tag='SystemMessageChunk')], typing.Annotated[langchain_core.messages.function.FunctionMessageChunk, Tag(tag='FunctionMessageChunk')], typing.Annotated[langchain_core.messages.tool.ToolMessageChunk, Tag(tag='ToolMessageChunk')]], FieldInfo(annotation=NoneType, required=True, discriminator=Discriminator(discriminator=<function _get_type at 0x0000021201FA9B20>, custom_error_type=None, custom_error_message=None, custom_error_context=None))]]}, partial_variables={}, messages=[SystemMessagePromptTemplate(prompt=PromptTemplate(input_variables=[], input_types={}, partial_variables={}, template='You are a helpful assistant. Rewrite the user question into a standalone query using chat history if needed.'), additional_kwargs={}), MessagesPlaceholder(variable_name='chat_history'), HumanMessagePromptTemplate(prompt=PromptTemplate(input_variables=['input'], input_types={}, partial_variables={}, template='{input}'), additional_kwargs={})])\n",
       "| ChatGroq(client=<groq.resources.chat.completions.Completions object at 0x0000021224300BC0>, async_client=<groq.resources.chat.completions.AsyncCompletions object at 0x0000021224534560>, model_name='llama-3.1-8b-instant', model_kwargs={}, groq_api_key=SecretStr('**********'))\n",
       "| StrOutputParser()\n",
       "| VectorStoreRetriever(tags=['Chroma', 'HuggingFaceEmbeddings'], vectorstore=<langchain_chroma.vectorstores.Chroma object at 0x0000021220A719D0>, search_kwargs={})), kwargs={}, config={'run_name': 'chat_retriever_chain'}, config_factories=[])"
      ]
     },
     "execution_count": 19,
     "metadata": {},
     "output_type": "execute_result"
    }
   ],
   "source": [
    "# History-aware retriever (rephrases user queries based on conversation)\n",
    "history_aware_retriever = create_history_aware_retriever( llm, retriever, retriever_prompt )\n",
    "history_aware_retriever"
   ]
  },
  {
   "cell_type": "code",
   "execution_count": 20,
   "metadata": {},
   "outputs": [],
   "source": [
    "# retriver_chain\n",
    "retrieval_chain = create_retrieval_chain(history_aware_retriever, document_chains)"
   ]
  },
  {
   "cell_type": "markdown",
   "metadata": {},
   "source": [
    "#### chat conversation history store"
   ]
  },
  {
   "cell_type": "code",
   "execution_count": 21,
   "metadata": {},
   "outputs": [
    {
     "name": "stdout",
     "output_type": "stream",
     "text": [
      "Unfortunately, I don't have any information about our WhatsApp chat service. I’m not sure about that. Please contact support for more information.\n"
     ]
    }
   ],
   "source": [
    "# manual chat history store\n",
    "from langchain_core.messages import AIMessage,HumanMessage\n",
    "chat_history=[]\n",
    "question=\"Can I chat on WhatsApp?\"\n",
    "response1=retrieval_chain.invoke({\"input\":question,\"chat_history\":chat_history})\n",
    "\n",
    "chat_history.extend(\n",
    "    [\n",
    "        HumanMessage(content=question),\n",
    "        AIMessage(content=response1[\"answer\"])\n",
    "    ]\n",
    ")\n",
    "\n",
    "question2=\"How do I update my billing information?\"\n",
    "response2=retrieval_chain.invoke({\"input\":question,\"chat_history\":chat_history})\n",
    "print(response2['answer'])\n",
    "\n"
   ]
  },
  {
   "cell_type": "code",
   "execution_count": 22,
   "metadata": {},
   "outputs": [
    {
     "data": {
      "text/plain": [
       "[HumanMessage(content='Can I chat on WhatsApp?', additional_kwargs={}, response_metadata={}),\n",
       " AIMessage(content=\"I'm an assistant for our official support channel. However, I don't have information on WhatsApp chat availability in our KB context. I’m not sure about that. Please contact support.\", additional_kwargs={}, response_metadata={})]"
      ]
     },
     "execution_count": 22,
     "metadata": {},
     "output_type": "execute_result"
    }
   ],
   "source": [
    "chat_history"
   ]
  },
  {
   "cell_type": "code",
   "execution_count": 23,
   "metadata": {},
   "outputs": [],
   "source": [
    "# automatically store all chat history \n",
    "from langchain_community.chat_message_histories import ChatMessageHistory\n",
    "from langchain_core.chat_history import BaseChatMessageHistory\n",
    "from langchain_core.runnables.history import RunnableWithMessageHistory\n",
    "\n",
    "store = {}\n",
    "\n",
    "def get_session_history(session_id: str) -> BaseChatMessageHistory:\n",
    "    if session_id not in store:\n",
    "        store[session_id] = ChatMessageHistory()\n",
    "    return store[session_id]\n",
    "\n",
    "# Wrap your RAG chain with history support\n",
    "conversational_rag_chain = RunnableWithMessageHistory(\n",
    "    retrieval_chain,\n",
    "    get_session_history,\n",
    "    input_messages_key=\"input\",\n",
    "    history_messages_key=\"chat_history\",\n",
    "    output_messages_key=\"answer\",\n",
    ")"
   ]
  },
  {
   "cell_type": "code",
   "execution_count": 48,
   "metadata": {},
   "outputs": [],
   "source": [
    "def ask_question3(question: str):\n",
    "    response = conversational_rag_chain.invoke(\n",
    "        {\"input\": question},\n",
    "        config={\"configurable\": {\"session_id\": \"default\"}}\n",
    "    )\n",
    "    return response[\"answer\"]\n"
   ]
  },
  {
   "cell_type": "code",
   "execution_count": 49,
   "metadata": {},
   "outputs": [
    {
     "name": "stdout",
     "output_type": "stream",
     "text": [
      "Updating your billing information is a relatively straightforward process. Here's what you can do:\n",
      "\n",
      "1. Log in to your account.\n",
      "2. Go to the 'Account' or 'Profile' section.\n",
      "3. Look for the 'Billing Information' or 'Payment Details' option and click on it.\n",
      "4. Update your billing information, such as your address, card details, or bank information.\n",
      "5. Save your changes.\n",
      "\n",
      "If you're having trouble finding the 'Account' or 'Profile' section, or if you're not sure about the specific steps, I can suggest trying the website's help section or FAQ for more detailed instructions. If you're still unsure, please contact our support team and we'll be happy to help.\n"
     ]
    }
   ],
   "source": [
    "print(ask_question3(\"How do I update my billing information?\"))"
   ]
  },
  {
   "cell_type": "code",
   "execution_count": 50,
   "metadata": {},
   "outputs": [
    {
     "name": "stdout",
     "output_type": "stream",
     "text": [
      "To update your billing information, follow these steps:\n",
      "\n",
      "1. Log in to your account.\n",
      "2. Go to the 'Account' or 'Profile' section.\n",
      "3. Look for the 'Billing Information' or 'Payment Details' option and click on it.\n",
      "4. Update your billing information, such as your address, card details, or bank information.\n",
      "5. Save your changes.\n",
      "\n",
      "If you're having trouble finding the 'Account' or 'Profile' section, you can also try clicking on the 'Settings' or 'Edit Profile' option in your account dashboard.\n",
      "\n",
      "Additionally, you can also try searching for \"update billing information\" in the search bar on the website or checking the website's help section for more detailed instructions. If you're still unsure, please contact our support team and we'll be happy to help.\n",
      "To update your product, I'm not sure about the exact steps. However, I can suggest a few options:\n",
      "\n",
      "1. Check the product's manual or the manufacturer's website for instructions on how to update the product.\n",
      "2. Look for a 'Settings' or 'Update' option in the product's interface. This might allow you to check for and install any available updates.\n",
      "3. If you've purchased the product from our website, you can try contacting our support team. We might be able to assist you with updating the product or provide further guidance.\n",
      "\n",
      "If you're still unsure about updating your product, please contact our support team and we'll do our best to help.\n",
      "HUMAN: How do I download my invoice?\n",
      "AI: I'm not sure about that. Please contact support. However, I can suggest that you try the following: \n",
      "\n",
      "1. Check the website's help section or FAQ for information on downloading invoices.\n",
      "2. Look for a 'Documents' or 'Account' section in your account settings where you might be able to access and download your invoice.\n",
      "3. If you're still unsure, contact our support team directly and they'll be happy to assist you with downloading your invoice.\n",
      "HUMAN: How do I update my billing information?\n",
      "AI: Updating your billing information is a relatively straightforward process. Here's what you can do:\n",
      "\n",
      "1. Log in to your account.\n",
      "2. Go to the 'Account' or 'Profile' section.\n",
      "3. Look for the 'Billing Information' or 'Payment Details' option and click on it.\n",
      "4. Update your billing information, such as your address, card details, or bank information.\n",
      "5. Save your changes.\n",
      "\n",
      "If you're having trouble finding the 'Account' or 'Profile' section, or if you're not sure about the specific steps, I can suggest trying the website's help section or FAQ for more detailed instructions. If you're still unsure, please contact our support team and we'll be happy to help.\n",
      "HUMAN: How do I update my billing information?\n",
      "AI: To update your billing information, follow these steps:\n",
      "\n",
      "1. Log in to your account.\n",
      "2. Go to the 'Account' or 'Profile' section.\n",
      "3. Look for the 'Billing Information' or 'Payment Details' option and click on it.\n",
      "4. Update your billing information, such as your address, card details, or bank information.\n",
      "5. Save your changes.\n",
      "\n",
      "If you're having trouble finding the 'Account' or 'Profile' section, you can also try clicking on the 'Settings' or 'Edit Profile' option in your account dashboard.\n",
      "\n",
      "Additionally, you can also try searching for \"update billing information\" in the search bar on the website or checking the website's help section for more detailed instructions. If you're still unsure, please contact our support team and we'll be happy to help.\n",
      "HUMAN: My product needs an update\n",
      "AI: To update your product, I'm not sure about the exact steps. However, I can suggest a few options:\n",
      "\n",
      "1. Check the product's manual or the manufacturer's website for instructions on how to update the product.\n",
      "2. Look for a 'Settings' or 'Update' option in the product's interface. This might allow you to check for and install any available updates.\n",
      "3. If you've purchased the product from our website, you can try contacting our support team. We might be able to assist you with updating the product or provide further guidance.\n",
      "\n",
      "If you're still unsure about updating your product, please contact our support team and we'll do our best to help.\n"
     ]
    }
   ],
   "source": [
    "# User 1 asks questions\n",
    "print(ask_question3(\"How do I update my billing information?\"))\n",
    "\n",
    "\n",
    "# Check history for user1\n",
    "history1 = get_session_history(\"default\")\n",
    "\n",
    "print(ask_question3(\"My product needs an update\"))\n",
    "for msg in history1.messages:\n",
    "    print(f\"{msg.type.upper()}: {msg.content}\")\n"
   ]
  },
  {
   "cell_type": "code",
   "execution_count": 51,
   "metadata": {},
   "outputs": [
    {
     "name": "stdout",
     "output_type": "stream",
     "text": [
      "Yes, you can change your shipping address. To do so:\n",
      "\n",
      "1. Log in to your account.\n",
      "2. Go to the 'Account' or 'Profile' section.\n",
      "3. Look for the 'Address Book' or 'Shipping Addresses' option and click on it.\n",
      "4. Edit the shipping address you want to update.\n",
      "5. Save your changes.\n",
      "\n",
      "If you're having trouble finding the 'Account' or 'Profile' section, you can also try clicking on the 'Settings' or 'Edit Profile' option in your account dashboard.\n",
      "\n",
      "If you're trying to change your shipping address for an upcoming order, you might want to check with our support team to see if it's possible to make changes before the order ships.\n"
     ]
    }
   ],
   "source": [
    "# User 1 asks questions\n",
    "print(ask_question3(\"Can I change my  shipping address?\"))\n"
   ]
  },
  {
   "cell_type": "code",
   "execution_count": null,
   "metadata": {},
   "outputs": [],
   "source": []
  },
  {
   "cell_type": "code",
   "execution_count": null,
   "metadata": {},
   "outputs": [],
   "source": []
  },
  {
   "cell_type": "code",
   "execution_count": null,
   "metadata": {},
   "outputs": [],
   "source": []
  }
 ],
 "metadata": {
  "kernelspec": {
   "display_name": "Python 3",
   "language": "python",
   "name": "python3"
  },
  "language_info": {
   "codemirror_mode": {
    "name": "ipython",
    "version": 3
   },
   "file_extension": ".py",
   "mimetype": "text/x-python",
   "name": "python",
   "nbconvert_exporter": "python",
   "pygments_lexer": "ipython3",
   "version": "3.12.11"
  }
 },
 "nbformat": 4,
 "nbformat_minor": 2
}
